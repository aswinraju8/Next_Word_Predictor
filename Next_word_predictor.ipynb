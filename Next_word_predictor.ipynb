{
  "nbformat": 4,
  "nbformat_minor": 0,
  "metadata": {
    "colab": {
      "provenance": [],
      "authorship_tag": "ABX9TyO/eTmTBP+f5ij38vJOUzQe",
      "include_colab_link": true
    },
    "kernelspec": {
      "name": "python3",
      "display_name": "Python 3"
    },
    "language_info": {
      "name": "python"
    }
  },
  "cells": [
    {
      "cell_type": "markdown",
      "metadata": {
        "id": "view-in-github",
        "colab_type": "text"
      },
      "source": [
        "<a href=\"https://colab.research.google.com/github/aswinraju8/Next_Word_Predictor/blob/main/Next_word_predictor.ipynb\" target=\"_parent\"><img src=\"https://colab.research.google.com/assets/colab-badge.svg\" alt=\"Open In Colab\"/></a>"
      ]
    },
    {
      "cell_type": "code",
      "execution_count": null,
      "metadata": {
        "colab": {
          "base_uri": "https://localhost:8080/"
        },
        "id": "gAPymkwMlWLe",
        "outputId": "54ac2cea-2d9b-455b-aaf8-46e168ad7783"
      },
      "outputs": [
        {
          "output_type": "stream",
          "name": "stderr",
          "text": [
            "[nltk_data] Downloading package stopwords to /root/nltk_data...\n",
            "[nltk_data]   Package stopwords is already up-to-date!\n",
            "[nltk_data] Downloading package punkt to /root/nltk_data...\n",
            "[nltk_data]   Unzipping tokenizers/punkt.zip.\n"
          ]
        },
        {
          "output_type": "stream",
          "name": "stdout",
          "text": [
            "20\n",
            "5\n",
            "{'I': 0.15, 'graduate': 0.05, 'want': 0.05, 'learn': 0.05, 'Python': 0.1, 'like': 0.05, 'learning': 0.05, 'PythonPython': 0.05, 'easy': 0.05, 'interesting': 0.05, 'Learning': 0.05, 'increase': 0.05}\n",
            "{'I': 0.5108256237659907, 'graduate': 1.6094379124341003, 'want': 1.6094379124341003, 'learn': 1.6094379124341003, 'Python': 0.5108256237659907, 'like': 1.6094379124341003, 'learning': 1.6094379124341003, 'PythonPython': 1.6094379124341003, 'easy': 1.6094379124341003, 'interesting': 1.6094379124341003, 'Learning': 1.6094379124341003, 'increase': 1.6094379124341003}\n",
            "{'I': 0.07662384356489861, 'graduate': 0.08047189562170502, 'want': 0.08047189562170502, 'learn': 0.08047189562170502, 'Python': 0.051082562376599076, 'like': 0.08047189562170502, 'learning': 0.08047189562170502, 'PythonPython': 0.08047189562170502, 'easy': 0.08047189562170502, 'interesting': 0.08047189562170502, 'Learning': 0.08047189562170502, 'increase': 0.08047189562170502}\n",
            "{'graduate': 0.08047189562170502, 'want': 0.08047189562170502, 'learn': 0.08047189562170502, 'like': 0.08047189562170502, 'learning': 0.08047189562170502}\n"
          ]
        }
      ],
      "source": [
        "from nltk import tokenize\n",
        "from operator import itemgetter\n",
        "import math\n",
        "doc = 'I am a graduate. I want to learn Python. I like learning Python.Python is easy. Python is interesting. Learning increase'\n",
        "import nltk\n",
        "nltk.download('stopwords')\n",
        "nltk.download('punkt')\n",
        "from nltk.corpus import stopwords\n",
        "from nltk.tokenize import word_tokenize\n",
        "stop_words = set(stopwords.words('english'))\n",
        "total_words = doc.split()\n",
        "total_word_length = len(total_words)\n",
        "print(total_word_length)\n",
        "total_sentences = tokenize.sent_tokenize(doc)\n",
        "total_sent_len = len(total_sentences)\n",
        "print(total_sent_len)\n",
        "tf_score = {}\n",
        "for each_word in total_words:\n",
        "  each_word = each_word.replace('.','')\n",
        "  if each_word not in stop_words:\n",
        "    if each_word in tf_score:\n",
        "      tf_score[each_word] += 1\n",
        "    else:\n",
        "      tf_score[each_word] = 1\n",
        "# Dividing by total_word_length for each dictionary element\n",
        "tf_score.update((x, y/int(total_word_length)) for x, y in\n",
        "tf_score.items())\n",
        "print(tf_score)\n",
        "def check_sent(word, sentences):\n",
        "  final = [all([w in x for w in word]) for x in sentences]\n",
        "  sent_len = [sentences[i] for i in range(0, len(final)) if final[i]]\n",
        "  return int(len(sent_len))\n",
        "idf_score = {}\n",
        "for each_word in total_words:\n",
        "  each_word = each_word.replace('.','')\n",
        "  if each_word not in stop_words:\n",
        "    if each_word in idf_score:\n",
        "      idf_score[each_word] = check_sent(each_word, total_sentences)\n",
        "    else:\n",
        "      idf_score[each_word] = 1\n",
        "# Performing a log and divide\n",
        "idf_score.update((x, math.log(int(total_sent_len)/y)) for x, y in\n",
        "idf_score.items())\n",
        "print(idf_score)\n",
        "tf_idf_score = {key: tf_score[key] * idf_score.get(key, 0) for key in\n",
        "tf_score.keys()}\n",
        "print(tf_idf_score)\n",
        "def get_top_n(dict_elem, n):\n",
        "  result = dict(sorted(dict_elem.items(), key = itemgetter(1), reverse =\n",
        "True)[:n])\n",
        "  return result\n",
        "print(get_top_n(tf_idf_score, 5))"
      ]
    }
  ]
}